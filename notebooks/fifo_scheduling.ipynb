{
 "cells": [
  {
   "cell_type": "markdown",
   "metadata": {},
   "source": [
    "# CPU SCHEDULING"
   ]
  },
  {
   "cell_type": "markdown",
   "metadata": {},
   "source": [
    "## FIFO (First In, First Out)"
   ]
  },
  {
   "cell_type": "markdown",
   "metadata": {},
   "source": [
    "First In, First Out (FIFO) é um algoritmo de escalonamento de processos que executa os processos na ordem em que chegam, ou seja, o primeiro processo a chegar é o primeiro a ser executado. Fazendo uma analogia com uma fila de banco, o primeiro a chegar é o primeiro a ser atendido."
   ]
  },
  {
   "cell_type": "markdown",
   "metadata": {},
   "source": [
    " ⚠️ Importante: Para começar a simulação, primeiro importamos a biblioteca deque (simula o comportamento de uma fila em python)\n",
    "\n",
    "> Link: https://www.geeksforgeeks.org/deque-in-python/"
   ]
  },
  {
   "cell_type": "code",
   "execution_count": 1,
   "metadata": {},
   "outputs": [],
   "source": [
    "from collections import deque"
   ]
  },
  {
   "cell_type": "code",
   "execution_count": 2,
   "metadata": {},
   "outputs": [],
   "source": [
    "# Criando a estrutura do algoritmo FIFO\n",
    "\n",
    "# FIFO: First In, First Out\n",
    "class FifoScheduler:\n",
    "    # __Init__ é um\n",
    "    def __init__(self):\n",
    "        self.fila_processos = deque()  # Inicializa a fila de processos\n",
    "\n",
    "    def adicionar_processo(self, pid, tempo_exec):\n",
    "        \"\"\"Adiciona um novo processo à fila.\"\"\"\n",
    "        self.fila_processos.append((pid, tempo_exec))\n",
    "\n",
    "    def remover_processo(self):\n",
    "        \"\"\"Remove o primeiro processo da fila, se existir.\"\"\"\n",
    "        if self.fila_processos:\n",
    "            return self.fila_processos.popleft()\n",
    "        else:\n",
    "            print(\"Nenhum processo para remover.\")\n",
    "            return None\n",
    "\n",
    "    def fifo_scheduling(self):\n",
    "        \"\"\"\n",
    "        Simula o escalonamento FIFO.\n",
    "        \"\"\"\n",
    "        tempo_atual = 0\n",
    "        # Dicionário para armazenar os tempos de espera de cada processo\n",
    "        tempos_espera = {}\n",
    "        # Dicionário para armazenar os tempos de retorno de cada processo\n",
    "        tempos_retorno = {}\n",
    "\n",
    "        print(\"\\nExecução dos processos na ordem FIFO:\\n\")\n",
    "\n",
    "        # Enquanto houver processos na fila\n",
    "        while self.fila_processos:\n",
    "            pid, tempo_exec = self.remover_processo()  # Remove o primeiro processo da fila\n",
    "\n",
    "            tempos_espera[pid] = tempo_atual  # Tempo de espera = tempo decorrido antes da execução\n",
    "            tempos_retorno[pid] = tempo_atual + tempo_exec  # Tempo de retorno = espera + execução\n",
    "\n",
    "            print(f\"Processo {pid} executando... (Tempo: {tempo_atual} → {tempo_atual + tempo_exec})\")\n",
    "\n",
    "            tempo_atual += tempo_exec  # Atualiza o tempo atual\n",
    "\n",
    "        # Exibindo tempos finais\n",
    "        print(\"\\nResumo do escalonamento:\")\n",
    "        print(\"PID | Tempo de Espera | Tempo de Retorno\")\n",
    "        # For para iterar sobre os tempos de espera\n",
    "        for pid in tempos_espera:\n",
    "            print(f\"{pid:^3} | {tempos_espera[pid]:^15} | {tempos_retorno[pid]:^14}\")\n"
   ]
  },
  {
   "cell_type": "code",
   "execution_count": 3,
   "metadata": {},
   "outputs": [],
   "source": [
    "# Criando uma instancia do algoritmo FIFO\n",
    "scheduler = FifoScheduler()"
   ]
  },
  {
   "cell_type": "code",
   "execution_count": 4,
   "metadata": {},
   "outputs": [],
   "source": [
    "# Adiciona processos ao nosso agendador\n",
    "scheduler.adicionar_processo(1, 5)\n",
    "scheduler.adicionar_processo(2, 3)\n",
    "scheduler.adicionar_processo(3, 8)\n",
    "scheduler.adicionar_processo(4, 6)"
   ]
  },
  {
   "cell_type": "code",
   "execution_count": 5,
   "metadata": {},
   "outputs": [
    {
     "name": "stdout",
     "output_type": "stream",
     "text": [
      "\n",
      "Execução dos processos na ordem FIFO:\n",
      "\n",
      "Processo 1 executando... (Tempo: 0 → 5)\n",
      "Processo 2 executando... (Tempo: 5 → 8)\n",
      "Processo 3 executando... (Tempo: 8 → 16)\n",
      "Processo 4 executando... (Tempo: 16 → 22)\n",
      "\n",
      "Resumo do escalonamento:\n",
      "PID | Tempo de Espera | Tempo de Retorno\n",
      " 1  |        0        |       5       \n",
      " 2  |        5        |       8       \n",
      " 3  |        8        |       16      \n",
      " 4  |       16        |       22      \n"
     ]
    }
   ],
   "source": [
    "# Executa o algoritmo FIFO e imprime os resultados\n",
    "scheduler.fifo_scheduling()"
   ]
  },
  {
   "cell_type": "markdown",
   "metadata": {},
   "source": [
    "## SJF (Shortest Job First)"
   ]
  },
  {
   "cell_type": "markdown",
   "metadata": {},
   "source": [
    "Shorter Job First (SJF) é um algoritmo de escalonamento de processos que executa o processo com o menor tempo de execução primeiro. Fazendo uma analogia com uma fila de banco, o processo com o menor tempo de execução é o primeiro a ser atendido.\n"
   ]
  },
  {
   "cell_type": "code",
   "execution_count": 6,
   "metadata": {},
   "outputs": [],
   "source": [
    "class SjfScheduler:\n",
    "    def __init__(self):\n",
    "        self.fila_processos = []\n",
    "\n",
    "    # Adiciona o processo à fila e ordena a fila\n",
    "    def adicionar_processo(self, pid, tempo_exec):\n",
    "        self.fila_processos.append((pid, tempo_exec))\n",
    "        self.ordenar_fila()\n",
    "\n",
    "    # Remove o processo da fila\n",
    "    def remover_processo(self):\n",
    "        if self.fila_processos:\n",
    "            return self.fila_processos.pop(0)\n",
    "        else:\n",
    "            print(\"Nenhum processo para remover.\")\n",
    "            return None\n",
    "    \n",
    "    # Adiciona a função de ordenar a fila\n",
    "    def ordenar_fila(self):\n",
    "        # Ordena a fila de acordo com o tempo de execução (o menor tempo de execução fica no topo da fila)\n",
    "        # O lambda é uma função anonima que vai receber uma tupla e retornar o segundo elemento dela (no caso, o tempo_exec)\n",
    "        self.fila_processos.sort(key=lambda tuple: tuple[1])\n",
    "    \n",
    "    def sjf_scheduling(self):\n",
    "        tempo_atual = 0\n",
    "        tempos_espera = {}\n",
    "        tempos_retorno = {}\n",
    "        \n",
    "        print(\"\\nExecução dos processos na ordem SJF:\\n\")\n",
    "        \n",
    "        while self.fila_processos:\n",
    "            pid, tempo_exec = self.remover_processo()\n",
    "\n",
    "            tempos_espera[pid] = tempo_atual\n",
    "            tempos_retorno[pid] = tempo_atual + tempo_exec\n",
    "\n",
    "            print(f\"Processo {pid} executando... (Tempo: {tempo_atual} → {tempo_atual + tempo_exec})\")\n",
    "\n",
    "            tempo_atual += tempo_exec\n",
    "\n",
    "        print(\"\\nResumo do escalonamento:\")\n",
    "        print(\"PID | Tempo de Espera | Tempo de Retorno\")\n",
    "        for pid in tempos_espera:\n",
    "            print(f\"{pid:^3} | {tempos_espera[pid]:^15} | {tempos_retorno[pid]:^14}\")\n",
    "    \n"
   ]
  },
  {
   "cell_type": "code",
   "execution_count": 7,
   "metadata": {},
   "outputs": [],
   "source": [
    "sjf_scheduler = SjfScheduler()"
   ]
  },
  {
   "cell_type": "code",
   "execution_count": 8,
   "metadata": {},
   "outputs": [],
   "source": [
    "sjf_scheduler.adicionar_processo(1, 5)\n",
    "sjf_scheduler.adicionar_processo(2, 3)\n",
    "sjf_scheduler.adicionar_processo(3, 8)\n",
    "sjf_scheduler.adicionar_processo(4, 6)"
   ]
  },
  {
   "cell_type": "code",
   "execution_count": 9,
   "metadata": {},
   "outputs": [
    {
     "name": "stdout",
     "output_type": "stream",
     "text": [
      "\n",
      "Execução dos processos na ordem SJF:\n",
      "\n",
      "Processo 2 executando... (Tempo: 0 → 3)\n",
      "Processo 1 executando... (Tempo: 3 → 8)\n",
      "Processo 4 executando... (Tempo: 8 → 14)\n",
      "Processo 3 executando... (Tempo: 14 → 22)\n",
      "\n",
      "Resumo do escalonamento:\n",
      "PID | Tempo de Espera | Tempo de Retorno\n",
      " 2  |        0        |       3       \n",
      " 1  |        3        |       8       \n",
      " 4  |        8        |       14      \n",
      " 3  |       14        |       22      \n"
     ]
    }
   ],
   "source": [
    "sjf_scheduler.sjf_scheduling()"
   ]
  },
  {
   "cell_type": "code",
   "execution_count": 10,
   "metadata": {},
   "outputs": [
    {
     "name": "stdout",
     "output_type": "stream",
     "text": [
      "\n",
      "Execução dos processos na ordem SJF:\n",
      "\n",
      "\n",
      "Resumo do escalonamento:\n",
      "PID | Tempo de Espera | Tempo de Retorno\n"
     ]
    }
   ],
   "source": [
    "sjf_scheduler.sjf_scheduling()"
   ]
  },
  {
   "cell_type": "markdown",
   "metadata": {},
   "source": [
    "## Priority Scheduling"
   ]
  },
  {
   "cell_type": "markdown",
   "metadata": {},
   "source": [
    "Priority Scheduling é um algoritmo de escalonamento de processos que executa o processo com a maior prioridade primeiro. Fazendo uma analogia com uma fila de banco, o processo com a maior prioridade é o primeiro a ser atendido."
   ]
  },
  {
   "cell_type": "code",
   "execution_count": 11,
   "metadata": {},
   "outputs": [],
   "source": [
    "class PriorityScheduler:\n",
    "    \"\"\" \n",
    "    __Init__ é um método especial (método mágico) que é chamado quando um objeto é criado.\n",
    "\n",
    "    Definição: É um método especial que é chamado automaticamente quando você cria uma nova instância (ou objeto) de uma classe.\n",
    "    Ele é usado para inicializar os atributos do objeto.\n",
    "    \n",
    "    Objetivo: O principal objetivo do __init__ é configurar o estado inicial do objeto. \n",
    "    Isso significa que você pode definir valores iniciais para as variáveis que pertencem ao objeto.\n",
    "    \n",
    "    \"\"\"\n",
    "\n",
    "    def __init__(self):\n",
    "        self.fila_processos = []\n",
    "        self.prioridades = {}  # Dicionário para armazenar as prioridades\n",
    "\n",
    "    def adicionar_processo(self, pid, tempo_exec, prioridade):\n",
    "        self.fila_processos.append((pid, tempo_exec, prioridade))\n",
    "        self.prioridades[pid] = prioridade\n",
    "\n",
    "    def remover_processo(self):\n",
    "        if self.fila_processos:\n",
    "            return self.fila_processos.pop(0)\n",
    "        else:\n",
    "            print(\"Nenhum processo para remover.\")\n",
    "            return None\n",
    "\n",
    "    def priority_scheduling(self):\n",
    "        tempo_atual = 0\n",
    "        tempos_espera = {}\n",
    "        tempos_retorno = {}\n",
    "\n",
    "        print(\"\\nExecução dos processos na ordem de prioridade:\\n\")\n",
    "        \n",
    "        # Ordena a fila de acordo com a prioridade (o menor valor de prioridade fica no topo da fila)\n",
    "        self.fila_processos.sort(key=lambda tuple: tuple[2])\n",
    "\n",
    "        while self.fila_processos:\n",
    "            pid, tempo_exec, prioridade = self.remover_processo()\n",
    "\n",
    "            tempos_espera[pid] = tempo_atual\n",
    "            tempos_retorno[pid] = tempo_atual + tempo_exec\n",
    "\n",
    "            print(f\"Processo {pid} executando... (Tempo: {tempo_atual} → {tempo_atual + tempo_exec})\")\n",
    "\n",
    "            tempo_atual += tempo_exec\n",
    "\n",
    "        print(\"\\nResumo do escalonamento:\")\n",
    "        print(\"PID | Tempo de Espera | Tempo de Retorno | Prioridade\")\n",
    "        for pid in tempos_espera:\n",
    "            print(f\"{pid:^3} | {tempos_espera[pid]:^15} | {tempos_retorno[pid]:^14} | {self.prioridades[pid]:^10}\")"
   ]
  },
  {
   "cell_type": "code",
   "execution_count": 12,
   "metadata": {},
   "outputs": [
    {
     "name": "stdout",
     "output_type": "stream",
     "text": [
      "\n",
      "Execução dos processos na ordem de prioridade:\n",
      "\n",
      "Processo 3 executando... (Tempo: 0 → 8)\n",
      "Processo 4 executando... (Tempo: 8 → 14)\n",
      "Processo 1 executando... (Tempo: 14 → 19)\n",
      "Processo 2 executando... (Tempo: 19 → 22)\n",
      "\n",
      "Resumo do escalonamento:\n",
      "PID | Tempo de Espera | Tempo de Retorno | Prioridade\n",
      " 3  |        0        |       8        |     1     \n",
      " 4  |        8        |       14       |     2     \n",
      " 1  |       14        |       19       |     3     \n",
      " 2  |       19        |       22       |     4     \n"
     ]
    }
   ],
   "source": [
    "priority_scheduler = PriorityScheduler()\n",
    "priority_scheduler.adicionar_processo(1, 5, 3)\n",
    "priority_scheduler.adicionar_processo(2, 3, 4)\n",
    "priority_scheduler.adicionar_processo(3, 8, 1)\n",
    "priority_scheduler.adicionar_processo(4, 6, 2)\n",
    "priority_scheduler.priority_scheduling()"
   ]
  },
  {
   "cell_type": "markdown",
   "metadata": {},
   "source": [
    "## Round Robin"
   ]
  },
  {
   "cell_type": "markdown",
   "metadata": {},
   "source": [
    "Round Robin é um algoritmo de escalonamento de processos que executa cada processo por um tempo fixo, chamado quantum. \n",
    "Fazendo uma analogia com uma fila de banco, o processo que chegou primeiro é o primeiro a ser atendido, e o processo que chegou depois é atendido depois do primeiro. Mas o processo  "
   ]
  },
  {
   "cell_type": "code",
   "execution_count": 20,
   "metadata": {},
   "outputs": [],
   "source": [
    "class RoundRobinScheduler:\n",
    "    def __init__(self, quantum):\n",
    "        self.fila_processos = []\n",
    "        self.quantum = quantum\n",
    "\n",
    "    def adicionar_processo(self, pid, tempo_exec):\n",
    "        self.fila_processos.append((pid, tempo_exec))\n",
    "\n",
    "    def remover_processo(self):\n",
    "        if self.fila_processos:\n",
    "            return self.fila_processos.pop(0)\n",
    "        else:\n",
    "            print(\"Nenhum processo para remover.\")\n",
    "            return None\n",
    "        \n",
    "    def round_robin_scheduling(self):\n",
    "        tempo_atual = 0\n",
    "        tempos_espera = {}\n",
    "        tempos_retorno = {}\n",
    "        execucoes = {}  # Contador de execuções por processo\n",
    "        processos_restantes = self.fila_processos.copy()\n",
    "        \n",
    "        # Inicializa os tempos de espera e contador de execuções\n",
    "        for pid, _ in processos_restantes:\n",
    "            tempos_espera[pid] = 0\n",
    "            execucoes[pid] = 0\n",
    "\n",
    "        print(f\"\\nExecução dos processos na ordem Round Robin (Quantum: {self.quantum}):\\n\")\n",
    "        \n",
    "        while processos_restantes:\n",
    "            pid, tempo_exec = processos_restantes.pop(0)\n",
    "            execucoes[pid] += 1  # Incrementa o contador de execuções\n",
    "            \n",
    "            if tempo_exec > self.quantum:\n",
    "                # Se o tempo de execução for maior que o quantum,\n",
    "                # executa por um quantum e recoloca na fila\n",
    "\n",
    "                print(f\"Processo {pid} executando... (Tempo: {tempo_atual} → {tempo_atual + self.quantum})\")\n",
    "                tempo_atual += self.quantum\n",
    "                processos_restantes.append((pid, tempo_exec - self.quantum))\n",
    "                \n",
    "                # Atualiza tempo de espera dos outros processos\n",
    "                for p_pid, _ in processos_restantes[:-1]:\n",
    "                    if p_pid != pid:\n",
    "                        tempos_espera[p_pid] += self.quantum\n",
    "            else:\n",
    "                # Se o tempo de execução for menor ou igual ao quantum,\n",
    "                # executa até terminar\n",
    "                print(f\"Processo {pid} executando... (Tempo: {tempo_atual} → {tempo_atual + tempo_exec})\")\n",
    "                print(f\"Processo {pid} finalizado!\")\n",
    "                tempo_atual += tempo_exec\n",
    "                tempos_retorno[pid] = tempo_atual\n",
    "                \n",
    "                # Atualiza tempo de espera dos outros processos\n",
    "                for p_pid, _ in processos_restantes:\n",
    "                    tempos_espera[p_pid] += tempo_exec\n",
    "\n",
    "        print(\"\\nResumo do escalonamento:\")\n",
    "        print(\"PID | Tempo de Espera | Tempo de Retorno | Execuções\")\n",
    "        for pid in tempos_espera:\n",
    "            print(f\"{pid:^3} | {tempos_espera[pid]:^15} | {tempos_retorno[pid]:^14} | {execucoes[pid]:^9}\")"
   ]
  },
  {
   "cell_type": "code",
   "execution_count": 21,
   "metadata": {},
   "outputs": [
    {
     "name": "stdout",
     "output_type": "stream",
     "text": [
      "\n",
      "Execução dos processos na ordem Round Robin (Quantum: 2):\n",
      "\n",
      "Processo 1 executando... (Tempo: 0 → 2)\n",
      "Processo 2 executando... (Tempo: 2 → 4)\n",
      "Processo 3 executando... (Tempo: 4 → 6)\n",
      "Processo 4 executando... (Tempo: 6 → 8)\n",
      "Processo 1 executando... (Tempo: 8 → 10)\n",
      "Processo 2 executando... (Tempo: 10 → 11)\n",
      "Processo 2 finalizado!\n",
      "Processo 3 executando... (Tempo: 11 → 13)\n",
      "Processo 4 executando... (Tempo: 13 → 15)\n",
      "Processo 1 executando... (Tempo: 15 → 16)\n",
      "Processo 1 finalizado!\n",
      "Processo 3 executando... (Tempo: 16 → 18)\n",
      "Processo 4 executando... (Tempo: 18 → 20)\n",
      "Processo 4 finalizado!\n",
      "Processo 3 executando... (Tempo: 20 → 22)\n",
      "Processo 3 finalizado!\n",
      "\n",
      "Resumo do escalonamento:\n",
      "PID | Tempo de Espera | Tempo de Retorno | Execuções\n",
      " 1  |       11        |       16       |     3    \n",
      " 2  |        8        |       11       |     2    \n",
      " 3  |       14        |       22       |     4    \n",
      " 4  |       14        |       20       |     3    \n"
     ]
    }
   ],
   "source": [
    "round_robin_scheduler = RoundRobinScheduler(2)\n",
    "round_robin_scheduler.adicionar_processo(1, 5)\n",
    "round_robin_scheduler.adicionar_processo(2, 3)\n",
    "round_robin_scheduler.adicionar_processo(3, 8)\n",
    "round_robin_scheduler.adicionar_processo(4, 6)\n",
    "round_robin_scheduler.round_robin_scheduling()\n"
   ]
  }
 ],
 "metadata": {
  "kernelspec": {
   "display_name": "Python 3",
   "language": "python",
   "name": "python3"
  },
  "language_info": {
   "codemirror_mode": {
    "name": "ipython",
    "version": 3
   },
   "file_extension": ".py",
   "mimetype": "text/x-python",
   "name": "python",
   "nbconvert_exporter": "python",
   "pygments_lexer": "ipython3",
   "version": "3.10.12"
  }
 },
 "nbformat": 4,
 "nbformat_minor": 2
}
