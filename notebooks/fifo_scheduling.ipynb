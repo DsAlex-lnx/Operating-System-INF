{
 "cells": [
  {
   "cell_type": "markdown",
   "metadata": {},
   "source": [
    "# CPU SCHEDULING"
   ]
  },
  {
   "cell_type": "markdown",
   "metadata": {},
   "source": [
    "## FIFO (First In, First Out)"
   ]
  },
  {
   "cell_type": "markdown",
   "metadata": {},
   "source": [
    "First In, First Out (FIFO) é um algoritmo de escalonamento de processos que executa os processos na ordem em que chegam, ou seja, o primeiro processo a chegar é o primeiro a ser executado. Fazendo uma analogia com uma fila de banco, o primeiro a chegar é o primeiro a ser atendido."
   ]
  },
  {
   "cell_type": "markdown",
   "metadata": {},
   "source": [
    " ⚠️ Importante: Para começar a simulação, primeiro importamos a biblioteca deque (simula o comportamento de uma fila em python)\n",
    "\n",
    "> Link: https://www.geeksforgeeks.org/deque-in-python/"
   ]
  },
  {
   "cell_type": "code",
   "execution_count": 1,
   "metadata": {},
   "outputs": [],
   "source": [
    "from collections import deque"
   ]
  },
  {
   "cell_type": "code",
   "execution_count": 10,
   "metadata": {},
   "outputs": [],
   "source": [
    "# Criando a estrutura do algoritmo FIFO\n",
    "\n",
    "# FIFO: First In, First Out\n",
    "class FifoScheduler:\n",
    "    def __init__(self):\n",
    "        self.fila_processos = deque()  # Inicializa a fila de processos\n",
    "\n",
    "    def adicionar_processo(self, pid, tempo_exec):\n",
    "        \"\"\"Adiciona um novo processo à fila.\"\"\"\n",
    "        self.fila_processos.append((pid, tempo_exec))\n",
    "\n",
    "    def remover_processo(self):\n",
    "        \"\"\"Remove o primeiro processo da fila, se existir.\"\"\"\n",
    "        if self.fila_processos:\n",
    "            return self.fila_processos.popleft()\n",
    "        else:\n",
    "            print(\"Nenhum processo para remover.\")\n",
    "            return None\n",
    "\n",
    "    def fifo_scheduling(self):\n",
    "        \"\"\"\n",
    "        Simula o escalonamento FIFO.\n",
    "        \"\"\"\n",
    "        tempo_atual = 0\n",
    "        # Dicionário para armazenar os tempos de espera de cada processo\n",
    "        tempos_espera = {}\n",
    "        # Dicionário para armazenar os tempos de retorno de cada processo\n",
    "        tempos_retorno = {}\n",
    "\n",
    "        print(\"\\nExecução dos processos na ordem FIFO:\\n\")\n",
    "\n",
    "        # Enquanto houver processos na fila\n",
    "        while self.fila_processos:\n",
    "            pid, tempo_exec = self.remover_processo()  # Remove o primeiro processo da fila\n",
    "\n",
    "            tempos_espera[pid] = tempo_atual  # Tempo de espera = tempo decorrido antes da execução\n",
    "            tempos_retorno[pid] = tempo_atual + tempo_exec  # Tempo de retorno = espera + execução\n",
    "\n",
    "            print(f\"Processo {pid} executando... (Tempo: {tempo_atual} → {tempo_atual + tempo_exec})\")\n",
    "\n",
    "            tempo_atual += tempo_exec  # Atualiza o tempo atual\n",
    "\n",
    "        # Exibindo tempos finais\n",
    "        print(\"\\nResumo do escalonamento:\")\n",
    "        print(\"PID | Tempo de Espera | Tempo de Retorno\")\n",
    "        # For para iterar sobre os tempos de espera\n",
    "        for pid in tempos_espera:\n",
    "            print(f\"{pid:^3} | {tempos_espera[pid]:^15} | {tempos_retorno[pid]:^14}\")\n"
   ]
  },
  {
   "cell_type": "code",
   "execution_count": 7,
   "metadata": {},
   "outputs": [],
   "source": [
    "# Criando uma instancia do algoritmo FIFO\n",
    "scheduler = FifoScheduler()"
   ]
  },
  {
   "cell_type": "code",
   "execution_count": 8,
   "metadata": {},
   "outputs": [],
   "source": [
    "# Adiciona processos ao nosso agendador\n",
    "scheduler.adicionar_processo(1, 5)\n",
    "scheduler.adicionar_processo(2, 3)\n",
    "scheduler.adicionar_processo(3, 8)\n",
    "scheduler.adicionar_processo(4, 6)"
   ]
  },
  {
   "cell_type": "code",
   "execution_count": 9,
   "metadata": {},
   "outputs": [
    {
     "name": "stdout",
     "output_type": "stream",
     "text": [
      "\n",
      "Execução dos processos na ordem FIFO:\n",
      "\n",
      "Processo 1 executando... (Tempo: 0 → 5)\n",
      "Processo 2 executando... (Tempo: 5 → 8)\n",
      "Processo 3 executando... (Tempo: 8 → 16)\n",
      "Processo 4 executando... (Tempo: 16 → 22)\n",
      "\n",
      "Resumo do escalonamento:\n",
      "PID | Tempo de Espera | Tempo de Retorno\n",
      " 1  |        0        |       5       \n",
      " 2  |        5        |       8       \n",
      " 3  |        8        |       16      \n",
      " 4  |       16        |       22      \n"
     ]
    }
   ],
   "source": [
    "# Executa o algoritmo FIFO e imprime os resultados\n",
    "scheduler.fifo_scheduling()"
   ]
  }
 ],
 "metadata": {
  "kernelspec": {
   "display_name": "Python 3",
   "language": "python",
   "name": "python3"
  },
  "language_info": {
   "codemirror_mode": {
    "name": "ipython",
    "version": 3
   },
   "file_extension": ".py",
   "mimetype": "text/x-python",
   "name": "python",
   "nbconvert_exporter": "python",
   "pygments_lexer": "ipython3",
   "version": "3.10.12"
  }
 },
 "nbformat": 4,
 "nbformat_minor": 2
}
